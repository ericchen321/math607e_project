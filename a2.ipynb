{
 "cells": [
  {
   "cell_type": "code",
   "execution_count": 1,
   "id": "f9fe8b90",
   "metadata": {},
   "outputs": [],
   "source": [
    "import math\n",
    "import numpy as np\n",
    "import dhutils.dhutils as dhu\n",
    "import pythreejs as THREE"
   ]
  },
  {
   "cell_type": "code",
   "execution_count": 3,
   "id": "4c1e3d3f",
   "metadata": {},
   "outputs": [],
   "source": [
    "# Implementation based on ideas from\n",
    "# https://cg.informatik.uni-freiburg.de/course_notes/sim_03_cloth1.pdf\n",
    "\n",
    "# generate the mesh and get (u, v), (x, y, z) coordinates\n",
    "x0, faces = dhu.standard_rectangle(1.5, 1.5, 4, 4)"
   ]
  },
  {
   "cell_type": "code",
   "execution_count": null,
   "id": "d428c371",
   "metadata": {},
   "outputs": [],
   "source": [
    "# define the initial condition\n",
    "# TODO:"
   ]
  },
  {
   "cell_type": "code",
   "execution_count": null,
   "id": "7d580f41",
   "metadata": {},
   "outputs": [],
   "source": [
    "# define the mass matrix\n",
    "# TODO:"
   ]
  },
  {
   "cell_type": "code",
   "execution_count": null,
   "id": "951dc5ba",
   "metadata": {},
   "outputs": [],
   "source": [
    "# define k_stretch, k_shear and k_bend\n",
    "# TODO:"
   ]
  },
  {
   "cell_type": "code",
   "execution_count": null,
   "id": "5782eb1e",
   "metadata": {},
   "outputs": [],
   "source": [
    "# define f_stretch\n",
    "# for each triangle, compute del_u, del_v\n",
    "# 2*(N-1)^2, 2\n",
    "\n",
    "\n",
    "\n",
    "# for each triangle, compute del_x1, del_x2\n",
    "# N, 3\n",
    "\n",
    "# for each vertex, compute w_u, w_v\n",
    "# N, 3, 2\n",
    "\n",
    "# compute area of triangles\n",
    "# 2*(N-1)^2\n",
    "\n",
    "# for each triangle, compute condition matrix C_st\n",
    "# 2*(N-1)^2, 2\n",
    "\n",
    "# for each vertex, compute f_stretch\n",
    "# N, 3"
   ]
  },
  {
   "cell_type": "code",
   "execution_count": null,
   "id": "c47b5649",
   "metadata": {},
   "outputs": [],
   "source": [
    "# define f_shear\n",
    "# TODO:"
   ]
  },
  {
   "cell_type": "code",
   "execution_count": null,
   "id": "a2018e6f",
   "metadata": {},
   "outputs": [],
   "source": [
    "# define f_bend\n",
    "# TODO:"
   ]
  },
  {
   "cell_type": "code",
   "execution_count": null,
   "id": "838ba8aa",
   "metadata": {},
   "outputs": [],
   "source": [
    "# define df/dx"
   ]
  },
  {
   "cell_type": "code",
   "execution_count": null,
   "id": "c124ace0",
   "metadata": {},
   "outputs": [],
   "source": [
    "# define df/dv"
   ]
  },
  {
   "cell_type": "code",
   "execution_count": 4,
   "id": "215294da",
   "metadata": {},
   "outputs": [
    {
     "data": {
      "application/vnd.jupyter.widget-view+json": {
       "model_id": "00687f332b4d48e58eb73de4ad03c8f2",
       "version_major": 2,
       "version_minor": 0
      },
      "text/plain": [
       "Renderer(camera=PerspectiveCamera(aspect=1.5, position=(5.0, 3.0, 5.0), projectionMatrix=(1.0, 0.0, 0.0, 0.0, …"
      ]
     },
     "metadata": {},
     "output_type": "display_data"
    },
    {
     "data": {
      "application/vnd.jupyter.widget-view+json": {
       "model_id": "abbc7b225607440ba3975fd4d8ab4fcc",
       "version_major": 2,
       "version_minor": 0
      },
      "text/plain": [
       "AnimationAction(clip=AnimationClip(tracks=(NumberKeyframeTrack(name='.morphTargetInfluences', times=array([0. …"
      ]
     },
     "metadata": {},
     "output_type": "display_data"
    }
   ],
   "source": [
    "# simulate\n",
    "Nt = 3\n",
    "dt = 0.1\n",
    "times = []\n",
    "xt = []\n",
    "\n",
    "for k in range(0, Nt + 1, 1):\n",
    "    x = np.copy(x0)\n",
    "    t = k * dt\n",
    "    for xj in x:\n",
    "        xj[2] = math.sin(xj[1]) * math.sin(t)\n",
    "    xt.append(x)\n",
    "    times.append(t)\n",
    "\n",
    "dhu.mesh_animation(times, xt, faces)"
   ]
  },
  {
   "cell_type": "code",
   "execution_count": null,
   "id": "659fcf36",
   "metadata": {},
   "outputs": [],
   "source": []
  }
 ],
 "metadata": {
  "kernelspec": {
   "display_name": "Python [conda env:cs548] *",
   "language": "python",
   "name": "conda-env-cs548-py"
  },
  "language_info": {
   "codemirror_mode": {
    "name": "ipython",
    "version": 3
   },
   "file_extension": ".py",
   "mimetype": "text/x-python",
   "name": "python",
   "nbconvert_exporter": "python",
   "pygments_lexer": "ipython3",
   "version": "3.6.9"
  }
 },
 "nbformat": 4,
 "nbformat_minor": 5
}
